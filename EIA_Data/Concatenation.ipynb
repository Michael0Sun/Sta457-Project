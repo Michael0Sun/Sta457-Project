{
 "cells": [
  {
   "cell_type": "code",
   "execution_count": 138,
   "metadata": {},
   "outputs": [],
   "source": [
    "import pandas as pd\n",
    "\n"
   ]
  },
  {
   "cell_type": "code",
   "execution_count": 139,
   "metadata": {},
   "outputs": [],
   "source": [
    "df1 = pd.read_excel(\"CO2_emissions/Table 11.01.xlsx\", skiprows=8)\n",
    "df1 = df1[[\"Month\", \"Total Energy CO2 Emissions\"]]\n",
    "\n",
    "\n",
    "df2 = pd.read_excel(\"CO2_emissions/Table 11.02.xlsx\", skiprows=8)\n",
    "df2 = df2[[\"Month\", \"Total Energy Residential Sector CO2 Emissions\"]]\n",
    "\n",
    "\n",
    "df3 = pd.read_excel(\"CO2_emissions/Table 11.03.xlsx\", skiprows=8)\n",
    "df3 = df3[[\"Month\", \"Total Energy Commercial Sector CO2 Emissions\"]]\n",
    "\n",
    "df4 = pd.read_excel(\"CO2_emissions/Table 11.04.xlsx\", skiprows=8)\n",
    "df4 = df4[[\"Month\", \"Total Industrial Sector CO2 Emissions\"]]\n",
    "\n",
    "\n",
    "df5 = pd.read_excel(\"CO2_emissions/Table 11.05.xlsx\", skiprows=8)\n",
    "df5 = df5[[\"Month\", \"Total Energy Transportation Sector CO2 Emissions\"]]\n",
    "\n",
    "df6 = pd.read_excel(\"CO2_emissions/Table 11.06.xlsx\", skiprows=8)\n",
    "df6 = df6[[\"Month\", \"Total Energy Electric Power Sector CO2 Emissions\"]]\n",
    "\n",
    "\n",
    "df7 = pd.read_excel(\"CO2_emissions/Table 11.07.xlsx\", skiprows=8)\n",
    "df7 = df7[[\"Month\", \"Biomass CO2 Emissions\"]]\n"
   ]
  },
  {
   "cell_type": "code",
   "execution_count": 140,
   "metadata": {},
   "outputs": [],
   "source": [
    "dfs = [df1, df2, df3, df4, df5, df6, df7]\n",
    "\n",
    "df_merged = dfs[0]\n",
    "for df in dfs[1:]:\n",
    "    df_merged = df_merged.merge(df, on='Month', how='inner')\n"
   ]
  },
  {
   "cell_type": "code",
   "execution_count": 141,
   "metadata": {},
   "outputs": [],
   "source": [
    "cols_to_sum = [\n",
    "    \"Total Energy CO2 Emissions\",\n",
    "    \"Total Energy Residential Sector CO2 Emissions\",\n",
    "    \"Total Energy Commercial Sector CO2 Emissions\",\n",
    "    \"Total Industrial Sector CO2 Emissions\",\n",
    "    \"Total Energy Transportation Sector CO2 Emissions\",\n",
    "    \"Total Energy Electric Power Sector CO2 Emissions\",\n",
    "    \"Biomass CO2 Emissions\"\n",
    "]\n",
    "\n",
    "df_merged[\"Total_CO2_Emissions\"] = df_merged[cols_to_sum].sum(axis=1)"
   ]
  },
  {
   "cell_type": "code",
   "execution_count": 142,
   "metadata": {},
   "outputs": [],
   "source": [
    "# df_merged.to_csv(\"merged_data.csv\", index = False)"
   ]
  },
  {
   "cell_type": "code",
   "execution_count": 143,
   "metadata": {},
   "outputs": [],
   "source": [
    "df_new  = df_merged[[\"Month\",\"Total_CO2_Emissions\"]]"
   ]
  },
  {
   "cell_type": "code",
   "execution_count": 144,
   "metadata": {},
   "outputs": [],
   "source": [
    "df_new = df_new.drop(index=0).reset_index(drop=True)"
   ]
  },
  {
   "cell_type": "code",
   "execution_count": 145,
   "metadata": {},
   "outputs": [
    {
     "data": {
      "text/html": [
       "<div>\n",
       "<style scoped>\n",
       "    .dataframe tbody tr th:only-of-type {\n",
       "        vertical-align: middle;\n",
       "    }\n",
       "\n",
       "    .dataframe tbody tr th {\n",
       "        vertical-align: top;\n",
       "    }\n",
       "\n",
       "    .dataframe thead th {\n",
       "        text-align: right;\n",
       "    }\n",
       "</style>\n",
       "<table border=\"1\" class=\"dataframe\">\n",
       "  <thead>\n",
       "    <tr style=\"text-align: right;\">\n",
       "      <th></th>\n",
       "      <th>Month</th>\n",
       "      <th>Total_CO2_Emissions</th>\n",
       "    </tr>\n",
       "  </thead>\n",
       "  <tbody>\n",
       "    <tr>\n",
       "      <th>0</th>\n",
       "      <td>1973 January</td>\n",
       "      <td>1031.918</td>\n",
       "    </tr>\n",
       "    <tr>\n",
       "      <th>1</th>\n",
       "      <td>1973 February</td>\n",
       "      <td>940.42</td>\n",
       "    </tr>\n",
       "    <tr>\n",
       "      <th>2</th>\n",
       "      <td>1973 March</td>\n",
       "      <td>926.209</td>\n",
       "    </tr>\n",
       "    <tr>\n",
       "      <th>3</th>\n",
       "      <td>1973 April</td>\n",
       "      <td>841.536</td>\n",
       "    </tr>\n",
       "    <tr>\n",
       "      <th>4</th>\n",
       "      <td>1973 May</td>\n",
       "      <td>862.351</td>\n",
       "    </tr>\n",
       "  </tbody>\n",
       "</table>\n",
       "</div>"
      ],
      "text/plain": [
       "           Month Total_CO2_Emissions\n",
       "0   1973 January            1031.918\n",
       "1  1973 February              940.42\n",
       "2     1973 March             926.209\n",
       "3     1973 April             841.536\n",
       "4       1973 May             862.351"
      ]
     },
     "execution_count": 145,
     "metadata": {},
     "output_type": "execute_result"
    }
   ],
   "source": [
    "df_new.head(5)"
   ]
  },
  {
   "cell_type": "code",
   "execution_count": 146,
   "metadata": {},
   "outputs": [],
   "source": [
    "df_new[['Year', 'Month_Name']] = df_new['Month'].str.extract(r'(\\d{4})\\s+(\\w+)', expand=True)\n",
    "\n",
    "month_map = {\n",
    "    'January': '01', 'February': '02', 'March': '03', 'April': '04',\n",
    "    'May': '05', 'June': '06', 'July': '07', 'August': '08',\n",
    "    'September': '09', 'October': '10', 'November': '11', 'December': '12'\n",
    "}\n",
    "df_new['Month'] = df_new['Month_Name'].map(month_map)\n",
    "df_new = df_new[[\"Year\", \"Month\",\"Total_CO2_Emissions\"]]"
   ]
  },
  {
   "cell_type": "code",
   "execution_count": 147,
   "metadata": {},
   "outputs": [
    {
     "data": {
      "text/html": [
       "<div>\n",
       "<style scoped>\n",
       "    .dataframe tbody tr th:only-of-type {\n",
       "        vertical-align: middle;\n",
       "    }\n",
       "\n",
       "    .dataframe tbody tr th {\n",
       "        vertical-align: top;\n",
       "    }\n",
       "\n",
       "    .dataframe thead th {\n",
       "        text-align: right;\n",
       "    }\n",
       "</style>\n",
       "<table border=\"1\" class=\"dataframe\">\n",
       "  <thead>\n",
       "    <tr style=\"text-align: right;\">\n",
       "      <th></th>\n",
       "      <th>Year</th>\n",
       "      <th>Month</th>\n",
       "      <th>Total_CO2_Emissions</th>\n",
       "    </tr>\n",
       "  </thead>\n",
       "  <tbody>\n",
       "    <tr>\n",
       "      <th>0</th>\n",
       "      <td>1973</td>\n",
       "      <td>01</td>\n",
       "      <td>1031.918</td>\n",
       "    </tr>\n",
       "    <tr>\n",
       "      <th>1</th>\n",
       "      <td>1973</td>\n",
       "      <td>02</td>\n",
       "      <td>940.42</td>\n",
       "    </tr>\n",
       "    <tr>\n",
       "      <th>2</th>\n",
       "      <td>1973</td>\n",
       "      <td>03</td>\n",
       "      <td>926.209</td>\n",
       "    </tr>\n",
       "    <tr>\n",
       "      <th>3</th>\n",
       "      <td>1973</td>\n",
       "      <td>04</td>\n",
       "      <td>841.536</td>\n",
       "    </tr>\n",
       "    <tr>\n",
       "      <th>4</th>\n",
       "      <td>1973</td>\n",
       "      <td>05</td>\n",
       "      <td>862.351</td>\n",
       "    </tr>\n",
       "  </tbody>\n",
       "</table>\n",
       "</div>"
      ],
      "text/plain": [
       "   Year Month Total_CO2_Emissions\n",
       "0  1973    01            1031.918\n",
       "1  1973    02              940.42\n",
       "2  1973    03             926.209\n",
       "3  1973    04             841.536\n",
       "4  1973    05             862.351"
      ]
     },
     "execution_count": 147,
     "metadata": {},
     "output_type": "execute_result"
    }
   ],
   "source": [
    "df_new.head(5)"
   ]
  },
  {
   "cell_type": "code",
   "execution_count": 148,
   "metadata": {},
   "outputs": [],
   "source": [
    "df_transportation = pd.read_csv(\"Transportation_petroleum_consumption/MER_T03_07C.csv\")\n",
    "df_transportation = df_transportation[df_transportation[\"Description\"] == \"Aviation Gasoline Consumed by the Transportation Sector\"]\n",
    "df_transportation = df_transportation[[\"YYYYMM\",\"Value\"]]\n"
   ]
  },
  {
   "cell_type": "code",
   "execution_count": 149,
   "metadata": {},
   "outputs": [
    {
     "data": {
      "text/html": [
       "<div>\n",
       "<style scoped>\n",
       "    .dataframe tbody tr th:only-of-type {\n",
       "        vertical-align: middle;\n",
       "    }\n",
       "\n",
       "    .dataframe tbody tr th {\n",
       "        vertical-align: top;\n",
       "    }\n",
       "\n",
       "    .dataframe thead th {\n",
       "        text-align: right;\n",
       "    }\n",
       "</style>\n",
       "<table border=\"1\" class=\"dataframe\">\n",
       "  <thead>\n",
       "    <tr style=\"text-align: right;\">\n",
       "      <th></th>\n",
       "      <th>YYYYMM</th>\n",
       "      <th>Value</th>\n",
       "    </tr>\n",
       "  </thead>\n",
       "  <tbody>\n",
       "    <tr>\n",
       "      <th>0</th>\n",
       "      <td>194913</td>\n",
       "      <td>93.129</td>\n",
       "    </tr>\n",
       "    <tr>\n",
       "      <th>1</th>\n",
       "      <td>195013</td>\n",
       "      <td>108.266</td>\n",
       "    </tr>\n",
       "    <tr>\n",
       "      <th>2</th>\n",
       "      <td>195113</td>\n",
       "      <td>145.071</td>\n",
       "    </tr>\n",
       "    <tr>\n",
       "      <th>3</th>\n",
       "      <td>195213</td>\n",
       "      <td>169.391</td>\n",
       "    </tr>\n",
       "    <tr>\n",
       "      <th>4</th>\n",
       "      <td>195313</td>\n",
       "      <td>193.732</td>\n",
       "    </tr>\n",
       "  </tbody>\n",
       "</table>\n",
       "</div>"
      ],
      "text/plain": [
       "   YYYYMM    Value\n",
       "0  194913   93.129\n",
       "1  195013  108.266\n",
       "2  195113  145.071\n",
       "3  195213  169.391\n",
       "4  195313  193.732"
      ]
     },
     "execution_count": 149,
     "metadata": {},
     "output_type": "execute_result"
    }
   ],
   "source": [
    "df_transportation.head(5)"
   ]
  },
  {
   "cell_type": "code",
   "execution_count": 150,
   "metadata": {},
   "outputs": [],
   "source": [
    "df_transportation['Year'] = df_transportation['YYYYMM'].astype(str).str[:4]\n",
    "df_transportation['Month'] = df_transportation['YYYYMM'].astype(str).str[4:]\n",
    "\n",
    "df_transportation = df_transportation[df_transportation['Month'] != '13'].reset_index(drop=True)\n",
    "df_transportation = df_transportation[[\"Year\",\"Month\",\"Value\"]]\n",
    "df_transportation.rename(columns = {\"Value\" :\"Petroleum Consumption\"}, inplace= True)\n"
   ]
  },
  {
   "cell_type": "code",
   "execution_count": 151,
   "metadata": {},
   "outputs": [
    {
     "data": {
      "text/html": [
       "<div>\n",
       "<style scoped>\n",
       "    .dataframe tbody tr th:only-of-type {\n",
       "        vertical-align: middle;\n",
       "    }\n",
       "\n",
       "    .dataframe tbody tr th {\n",
       "        vertical-align: top;\n",
       "    }\n",
       "\n",
       "    .dataframe thead th {\n",
       "        text-align: right;\n",
       "    }\n",
       "</style>\n",
       "<table border=\"1\" class=\"dataframe\">\n",
       "  <thead>\n",
       "    <tr style=\"text-align: right;\">\n",
       "      <th></th>\n",
       "      <th>Year</th>\n",
       "      <th>Month</th>\n",
       "      <th>Petroleum Consumption</th>\n",
       "    </tr>\n",
       "  </thead>\n",
       "  <tbody>\n",
       "    <tr>\n",
       "      <th>0</th>\n",
       "      <td>1973</td>\n",
       "      <td>01</td>\n",
       "      <td>39.516</td>\n",
       "    </tr>\n",
       "    <tr>\n",
       "      <th>1</th>\n",
       "      <td>1973</td>\n",
       "      <td>02</td>\n",
       "      <td>44.143</td>\n",
       "    </tr>\n",
       "    <tr>\n",
       "      <th>2</th>\n",
       "      <td>1973</td>\n",
       "      <td>03</td>\n",
       "      <td>42.419</td>\n",
       "    </tr>\n",
       "    <tr>\n",
       "      <th>3</th>\n",
       "      <td>1973</td>\n",
       "      <td>04</td>\n",
       "      <td>42.567</td>\n",
       "    </tr>\n",
       "    <tr>\n",
       "      <th>4</th>\n",
       "      <td>1973</td>\n",
       "      <td>05</td>\n",
       "      <td>50.71</td>\n",
       "    </tr>\n",
       "  </tbody>\n",
       "</table>\n",
       "</div>"
      ],
      "text/plain": [
       "   Year Month Petroleum Consumption\n",
       "0  1973    01                39.516\n",
       "1  1973    02                44.143\n",
       "2  1973    03                42.419\n",
       "3  1973    04                42.567\n",
       "4  1973    05                 50.71"
      ]
     },
     "execution_count": 151,
     "metadata": {},
     "output_type": "execute_result"
    }
   ],
   "source": [
    "df_transportation.head(5)"
   ]
  },
  {
   "cell_type": "code",
   "execution_count": 152,
   "metadata": {},
   "outputs": [],
   "source": [
    "df_new  = df_new.merge(df_transportation, how = \"inner\", on = [\"Year\",\"Month\"])"
   ]
  },
  {
   "cell_type": "code",
   "execution_count": 153,
   "metadata": {},
   "outputs": [
    {
     "data": {
      "text/html": [
       "<div>\n",
       "<style scoped>\n",
       "    .dataframe tbody tr th:only-of-type {\n",
       "        vertical-align: middle;\n",
       "    }\n",
       "\n",
       "    .dataframe tbody tr th {\n",
       "        vertical-align: top;\n",
       "    }\n",
       "\n",
       "    .dataframe thead th {\n",
       "        text-align: right;\n",
       "    }\n",
       "</style>\n",
       "<table border=\"1\" class=\"dataframe\">\n",
       "  <thead>\n",
       "    <tr style=\"text-align: right;\">\n",
       "      <th></th>\n",
       "      <th>Year</th>\n",
       "      <th>Month</th>\n",
       "      <th>Total_CO2_Emissions</th>\n",
       "      <th>Petroleum Consumption</th>\n",
       "    </tr>\n",
       "  </thead>\n",
       "  <tbody>\n",
       "    <tr>\n",
       "      <th>0</th>\n",
       "      <td>1973</td>\n",
       "      <td>01</td>\n",
       "      <td>1031.918</td>\n",
       "      <td>39.516</td>\n",
       "    </tr>\n",
       "    <tr>\n",
       "      <th>1</th>\n",
       "      <td>1973</td>\n",
       "      <td>02</td>\n",
       "      <td>940.42</td>\n",
       "      <td>44.143</td>\n",
       "    </tr>\n",
       "    <tr>\n",
       "      <th>2</th>\n",
       "      <td>1973</td>\n",
       "      <td>03</td>\n",
       "      <td>926.209</td>\n",
       "      <td>42.419</td>\n",
       "    </tr>\n",
       "    <tr>\n",
       "      <th>3</th>\n",
       "      <td>1973</td>\n",
       "      <td>04</td>\n",
       "      <td>841.536</td>\n",
       "      <td>42.567</td>\n",
       "    </tr>\n",
       "    <tr>\n",
       "      <th>4</th>\n",
       "      <td>1973</td>\n",
       "      <td>05</td>\n",
       "      <td>862.351</td>\n",
       "      <td>50.71</td>\n",
       "    </tr>\n",
       "  </tbody>\n",
       "</table>\n",
       "</div>"
      ],
      "text/plain": [
       "   Year Month Total_CO2_Emissions Petroleum Consumption\n",
       "0  1973    01            1031.918                39.516\n",
       "1  1973    02              940.42                44.143\n",
       "2  1973    03             926.209                42.419\n",
       "3  1973    04             841.536                42.567\n",
       "4  1973    05             862.351                 50.71"
      ]
     },
     "execution_count": 153,
     "metadata": {},
     "output_type": "execute_result"
    }
   ],
   "source": [
    "df_new.head(5)"
   ]
  },
  {
   "cell_type": "code",
   "execution_count": null,
   "metadata": {},
   "outputs": [],
   "source": []
  }
 ],
 "metadata": {
  "kernelspec": {
   "display_name": "base",
   "language": "python",
   "name": "python3"
  },
  "language_info": {
   "codemirror_mode": {
    "name": "ipython",
    "version": 3
   },
   "file_extension": ".py",
   "mimetype": "text/x-python",
   "name": "python",
   "nbconvert_exporter": "python",
   "pygments_lexer": "ipython3",
   "version": "3.12.2"
  }
 },
 "nbformat": 4,
 "nbformat_minor": 2
}
